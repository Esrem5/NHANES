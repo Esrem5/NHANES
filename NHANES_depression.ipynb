{
 "cells": [
  {
   "cell_type": "markdown",
   "metadata": {},
   "source": [
    "# Depression & Nutrition"
   ]
  },
  {
   "cell_type": "markdown",
   "metadata": {},
   "source": [
    "## Exploring whether nutritional intake &  lab nutrient levels can predict depressive symptoms from NHANES"
   ]
  },
  {
   "cell_type": "markdown",
   "metadata": {},
   "source": [
    "The National Health and Nutrition Examination Survey (NHANES), https://www.cdc.gov/nchs/nhanes/  \n",
    "Year: 2013-2014\n",
    "\n",
    "**Data:** .csv files can be downloaded from https://www.kaggle.com/cdc/national-health-and-nutrition-examination-survey\n",
    "\n",
    "**Analysis pipeline:**\n",
    "* Read + clean data\n",
    "* Feature selection\n",
    "    + Create 1 depression score based on the 10 subquestions (https://wwwn.cdc.gov/Nchs/Nhanes/2013-2014/DPQ_H.htm)\n",
    "    + Select possibles predictors based on literature?\n",
    "    + Automatic feature selection\n",
    "        + Correlation of nutrients with depression score?\n",
    "            + Nutritional intake vs blood levels\n",
    "        + Methods???\n",
    "* Can nutrients predict depression? \n",
    "    + Explore different ML models\n",
    "    + Look at depression subtypes\n",
    "\n",
    "**Literature:**\n",
    "* https://www.ncbi.nlm.nih.gov/pmc/articles/PMC4004962/\n",
    "* https://www.ncbi.nlm.nih.gov/pmc/articles/PMC2738337/\n",
    "* http://bmcmedinformdecismak.biomedcentral.com/articles/10.1186/1472-6947-10-16\n",
    "\n",
    "**Notes:**\n",
    "* Adjust for: age, education, employment, marital status and average daily caloric intake.\n",
    "* Sample weight correction\n"
   ]
  },
  {
   "cell_type": "code",
   "execution_count": 188,
   "metadata": {
    "collapsed": true
   },
   "outputs": [],
   "source": [
    "import pandas as pd\n",
    "import numpy as np\n",
    "import matplotlib.pyplot as plt\n",
    "import seaborn as sns\n",
    "import statsmodels.formula.api as smf\n",
    "\n",
    "%matplotlib inline"
   ]
  },
  {
   "cell_type": "markdown",
   "metadata": {},
   "source": [
    "### Data"
   ]
  },
  {
   "cell_type": "code",
   "execution_count": 189,
   "metadata": {
    "collapsed": false
   },
   "outputs": [],
   "source": [
    "# read files\n",
    "\n",
    "demo = pd.read_csv('./data/demographic.csv')\n",
    "diet = pd.read_csv('./data/diet.csv')\n",
    "labs = pd.read_csv('./data/labs.csv')\n",
    "quest = pd.read_csv('./data/questionnaire.csv')"
   ]
  },
  {
   "cell_type": "code",
   "execution_count": 190,
   "metadata": {
    "collapsed": false
   },
   "outputs": [],
   "source": [
    "# join data files together\n",
    "\n",
    "dfname_list = [diet, labs, quest]\n",
    "\n",
    "dfall = demo\n",
    "for df in dfname_list: \n",
    "    dfall = pd.merge(dfall, df, how='outer', on='SEQN') "
   ]
  },
  {
   "cell_type": "markdown",
   "metadata": {},
   "source": [
    "### Features"
   ]
  },
  {
   "cell_type": "markdown",
   "metadata": {},
   "source": [
    "#### One depression score"
   ]
  },
  {
   "cell_type": "markdown",
   "metadata": {},
   "source": [
    "A nine-item depression screening instrument, the Patient Health Questionnaire (Kroenke and Spitzer, 2002; Kroenke et al., 2001) was administered to determine the frequency of depression symptoms over the past 2 weeks.  Response categories for the nine-item instrument:"
   ]
  },
  {
   "cell_type": "markdown",
   "metadata": {},
   "source": [
    "| Value  | Value Description |\n",
    "|:-------|:-----------------:|\n",
    "| 0      |     Not at all     \n",
    "| 1      |    Several days    \n",
    "| 2      |     More than half the days     \n",
    "| 3      |      Nearly every day      \n",
    "| 7      |    Refused    \n",
    "| 9      |   Don't know"
   ]
  },
  {
   "cell_type": "markdown",
   "metadata": {},
   "source": [
    "The total score is calculated by finding the sum of 9 items. Remove subject when NaN or more than 2 items 'refused' or 'don't know'. Scores of 10 or higher have been associated with clinically diagnosed depression."
   ]
  },
  {
   "cell_type": "code",
   "execution_count": 191,
   "metadata": {
    "collapsed": false
   },
   "outputs": [],
   "source": [
    "# make list of depression items\n",
    "\n",
    "itemnumbers = range(10,100,10)\n",
    "\n",
    "listofitems = []\n",
    "for item in itemnumbers:\n",
    "    listofitems.append('DPQ0' + str(item))\n"
   ]
  },
  {
   "cell_type": "code",
   "execution_count": 192,
   "metadata": {
    "collapsed": false,
    "scrolled": true
   },
   "outputs": [],
   "source": [
    "# cleaning\n",
    "\n",
    "df_depression = dfall[listofitems]\n",
    "df_depression.index = dfall['SEQN']\n",
    "df_depression = df_depression.dropna()\n",
    "\n",
    "# per row, count number of 7 and 9 -> remove row when > 2\n",
    "count_refuse_dont = (df_depression==7).sum(axis=1) + (df_depression==9).sum(axis=1)\n",
    "df_depression = df_depression[~(count_refuse_dont > 2)]\n"
   ]
  },
  {
   "cell_type": "code",
   "execution_count": 193,
   "metadata": {
    "collapsed": false,
    "scrolled": true
   },
   "outputs": [],
   "source": [
    "# one score\n",
    "\n",
    "df_depression['DepressionScore'] = df_depression.sum(axis=1)"
   ]
  },
  {
   "cell_type": "code",
   "execution_count": 194,
   "metadata": {
    "collapsed": false
   },
   "outputs": [
    {
     "data": {
      "text/plain": [
       "'Number of clinically depressed subjects: 525'"
      ]
     },
     "execution_count": 194,
     "metadata": {},
     "output_type": "execute_result"
    }
   ],
   "source": [
    "'Number of clinically depressed subjects: %d' %(df_depression['DepressionScore'] >= 10).sum()"
   ]
  },
  {
   "cell_type": "code",
   "execution_count": 195,
   "metadata": {
    "collapsed": false
   },
   "outputs": [
    {
     "data": {
      "text/html": [
       "<div>\n",
       "<table border=\"1\" class=\"dataframe\">\n",
       "  <thead>\n",
       "    <tr style=\"text-align: right;\">\n",
       "      <th></th>\n",
       "      <th>DPQ010</th>\n",
       "      <th>DPQ020</th>\n",
       "      <th>DPQ030</th>\n",
       "      <th>DPQ040</th>\n",
       "      <th>DPQ050</th>\n",
       "      <th>DPQ060</th>\n",
       "      <th>DPQ070</th>\n",
       "      <th>DPQ080</th>\n",
       "      <th>DPQ090</th>\n",
       "      <th>DepressionScore</th>\n",
       "      <th>Depressed</th>\n",
       "    </tr>\n",
       "    <tr>\n",
       "      <th>SEQN</th>\n",
       "      <th></th>\n",
       "      <th></th>\n",
       "      <th></th>\n",
       "      <th></th>\n",
       "      <th></th>\n",
       "      <th></th>\n",
       "      <th></th>\n",
       "      <th></th>\n",
       "      <th></th>\n",
       "      <th></th>\n",
       "      <th></th>\n",
       "    </tr>\n",
       "  </thead>\n",
       "  <tbody>\n",
       "    <tr>\n",
       "      <th>73557</th>\n",
       "      <td>1.0</td>\n",
       "      <td>0.0</td>\n",
       "      <td>0.0</td>\n",
       "      <td>0.0</td>\n",
       "      <td>0.0</td>\n",
       "      <td>0.0</td>\n",
       "      <td>0.0</td>\n",
       "      <td>0.0</td>\n",
       "      <td>0.0</td>\n",
       "      <td>1.0</td>\n",
       "      <td>False</td>\n",
       "    </tr>\n",
       "    <tr>\n",
       "      <th>73558</th>\n",
       "      <td>2.0</td>\n",
       "      <td>0.0</td>\n",
       "      <td>0.0</td>\n",
       "      <td>0.0</td>\n",
       "      <td>0.0</td>\n",
       "      <td>0.0</td>\n",
       "      <td>0.0</td>\n",
       "      <td>0.0</td>\n",
       "      <td>0.0</td>\n",
       "      <td>2.0</td>\n",
       "      <td>False</td>\n",
       "    </tr>\n",
       "    <tr>\n",
       "      <th>73559</th>\n",
       "      <td>0.0</td>\n",
       "      <td>0.0</td>\n",
       "      <td>0.0</td>\n",
       "      <td>0.0</td>\n",
       "      <td>0.0</td>\n",
       "      <td>0.0</td>\n",
       "      <td>0.0</td>\n",
       "      <td>0.0</td>\n",
       "      <td>0.0</td>\n",
       "      <td>0.0</td>\n",
       "      <td>False</td>\n",
       "    </tr>\n",
       "    <tr>\n",
       "      <th>73561</th>\n",
       "      <td>2.0</td>\n",
       "      <td>1.0</td>\n",
       "      <td>0.0</td>\n",
       "      <td>3.0</td>\n",
       "      <td>3.0</td>\n",
       "      <td>0.0</td>\n",
       "      <td>0.0</td>\n",
       "      <td>0.0</td>\n",
       "      <td>0.0</td>\n",
       "      <td>9.0</td>\n",
       "      <td>False</td>\n",
       "    </tr>\n",
       "    <tr>\n",
       "      <th>73562</th>\n",
       "      <td>3.0</td>\n",
       "      <td>3.0</td>\n",
       "      <td>3.0</td>\n",
       "      <td>3.0</td>\n",
       "      <td>3.0</td>\n",
       "      <td>1.0</td>\n",
       "      <td>2.0</td>\n",
       "      <td>1.0</td>\n",
       "      <td>0.0</td>\n",
       "      <td>19.0</td>\n",
       "      <td>True</td>\n",
       "    </tr>\n",
       "  </tbody>\n",
       "</table>\n",
       "</div>"
      ],
      "text/plain": [
       "       DPQ010  DPQ020  DPQ030  DPQ040  DPQ050  DPQ060  DPQ070  DPQ080  DPQ090  \\\n",
       "SEQN                                                                            \n",
       "73557     1.0     0.0     0.0     0.0     0.0     0.0     0.0     0.0     0.0   \n",
       "73558     2.0     0.0     0.0     0.0     0.0     0.0     0.0     0.0     0.0   \n",
       "73559     0.0     0.0     0.0     0.0     0.0     0.0     0.0     0.0     0.0   \n",
       "73561     2.0     1.0     0.0     3.0     3.0     0.0     0.0     0.0     0.0   \n",
       "73562     3.0     3.0     3.0     3.0     3.0     1.0     2.0     1.0     0.0   \n",
       "\n",
       "       DepressionScore Depressed  \n",
       "SEQN                              \n",
       "73557              1.0     False  \n",
       "73558              2.0     False  \n",
       "73559              0.0     False  \n",
       "73561              9.0     False  \n",
       "73562             19.0      True  "
      ]
     },
     "execution_count": 195,
     "metadata": {},
     "output_type": "execute_result"
    }
   ],
   "source": [
    "# Add depressed yes / no column\n",
    "\n",
    "df_depression['Depressed'] = (df_depression['DepressionScore'] >= 10)\n",
    "df_depression.head()"
   ]
  },
  {
   "cell_type": "markdown",
   "metadata": {},
   "source": [
    "#### Features/ nutrients from literature"
   ]
  },
  {
   "cell_type": "markdown",
   "metadata": {},
   "source": [
    "| From literature | Code diet D1 | Code lab\n",
    "|:----------------|:------------:|:---------:|\n",
    "| B1              | DR1TVB1      | NA    \n",
    "| B2              | DR1TVB2      | NA    \n",
    "| B6              | DR1TVB6      | NA   \n",
    "| B12             | DR1TVB12     | LBDB12\n",
    "| Folate          | DR1TFOLA     | NA\n",
    "| ----------------|--------------|-----------\n",
    "| Calcium         | DR1TCALC     | LBXSCA  \n",
    "| Iodine          | NA           | URXUIO \n",
    "| Selenium        | DR1TSELE     | LBXSSE   \n",
    "| Zinc            | DR1TZINC     | LBXSZN\n",
    "| Magnesium       | DR1TMAGN     | NA\n",
    "| ----------------|--------------|-----------\n",
    "| Mono unsat FA   | DR1TMFAT     | NA\n",
    "| Poly unsat FA   | DR1TPFAT     | NA\n",
    "| Sat FA          | DR1TSFAT     | NA\n",
    "\n",
    ".... and more to come"
   ]
  },
  {
   "cell_type": "code",
   "execution_count": 196,
   "metadata": {
    "collapsed": true
   },
   "outputs": [],
   "source": [
    "vitamins_diet = ['DR1TVB1', 'DR1TVB2', 'DR1TVB6', 'DR1TVB12', 'DR1TFOLA']"
   ]
  },
  {
   "cell_type": "code",
   "execution_count": 197,
   "metadata": {
    "collapsed": true
   },
   "outputs": [],
   "source": [
    "minerals_diet = ['DR1TCALC', 'DR1TSELE', 'DR1TZINC', 'DR1TMAGN']"
   ]
  },
  {
   "cell_type": "code",
   "execution_count": 198,
   "metadata": {
    "collapsed": true
   },
   "outputs": [],
   "source": [
    "fat_diet = ['DR1TMFAT', 'DR1TPFAT', 'DR1TSFAT']"
   ]
  },
  {
   "cell_type": "markdown",
   "metadata": {},
   "source": [
    "#### Explore correlations"
   ]
  },
  {
   "cell_type": "code",
   "execution_count": 218,
   "metadata": {
    "collapsed": false
   },
   "outputs": [
    {
     "data": {
      "text/html": [
       "<div>\n",
       "<table border=\"1\" class=\"dataframe\">\n",
       "  <thead>\n",
       "    <tr style=\"text-align: right;\">\n",
       "      <th></th>\n",
       "      <th>DR1TVB1</th>\n",
       "      <th>DR1TVB2</th>\n",
       "      <th>DR1TVB6</th>\n",
       "      <th>DR1TVB12</th>\n",
       "      <th>DR1TFOLA</th>\n",
       "      <th>DPQ010</th>\n",
       "      <th>DPQ020</th>\n",
       "      <th>DPQ030</th>\n",
       "      <th>DPQ040</th>\n",
       "      <th>DPQ050</th>\n",
       "      <th>DPQ060</th>\n",
       "      <th>DPQ070</th>\n",
       "      <th>DPQ080</th>\n",
       "      <th>DPQ090</th>\n",
       "      <th>DepressionScore</th>\n",
       "      <th>Depressed</th>\n",
       "    </tr>\n",
       "    <tr>\n",
       "      <th>SEQN</th>\n",
       "      <th></th>\n",
       "      <th></th>\n",
       "      <th></th>\n",
       "      <th></th>\n",
       "      <th></th>\n",
       "      <th></th>\n",
       "      <th></th>\n",
       "      <th></th>\n",
       "      <th></th>\n",
       "      <th></th>\n",
       "      <th></th>\n",
       "      <th></th>\n",
       "      <th></th>\n",
       "      <th></th>\n",
       "      <th></th>\n",
       "      <th></th>\n",
       "    </tr>\n",
       "  </thead>\n",
       "  <tbody>\n",
       "    <tr>\n",
       "      <th>73557</th>\n",
       "      <td>1.057</td>\n",
       "      <td>1.216</td>\n",
       "      <td>0.951</td>\n",
       "      <td>2.79</td>\n",
       "      <td>285.0</td>\n",
       "      <td>1.0</td>\n",
       "      <td>0.0</td>\n",
       "      <td>0.0</td>\n",
       "      <td>0.0</td>\n",
       "      <td>0.0</td>\n",
       "      <td>0.0</td>\n",
       "      <td>0.0</td>\n",
       "      <td>0.0</td>\n",
       "      <td>0.0</td>\n",
       "      <td>1.0</td>\n",
       "      <td>False</td>\n",
       "    </tr>\n",
       "    <tr>\n",
       "      <th>73558</th>\n",
       "      <td>4.178</td>\n",
       "      <td>5.168</td>\n",
       "      <td>4.415</td>\n",
       "      <td>21.45</td>\n",
       "      <td>1243.0</td>\n",
       "      <td>2.0</td>\n",
       "      <td>0.0</td>\n",
       "      <td>0.0</td>\n",
       "      <td>0.0</td>\n",
       "      <td>0.0</td>\n",
       "      <td>0.0</td>\n",
       "      <td>0.0</td>\n",
       "      <td>0.0</td>\n",
       "      <td>0.0</td>\n",
       "      <td>2.0</td>\n",
       "      <td>False</td>\n",
       "    </tr>\n",
       "    <tr>\n",
       "      <th>73559</th>\n",
       "      <td>1.648</td>\n",
       "      <td>1.747</td>\n",
       "      <td>1.906</td>\n",
       "      <td>3.78</td>\n",
       "      <td>423.0</td>\n",
       "      <td>0.0</td>\n",
       "      <td>0.0</td>\n",
       "      <td>0.0</td>\n",
       "      <td>0.0</td>\n",
       "      <td>0.0</td>\n",
       "      <td>0.0</td>\n",
       "      <td>0.0</td>\n",
       "      <td>0.0</td>\n",
       "      <td>0.0</td>\n",
       "      <td>0.0</td>\n",
       "      <td>False</td>\n",
       "    </tr>\n",
       "    <tr>\n",
       "      <th>73561</th>\n",
       "      <td>1.484</td>\n",
       "      <td>1.720</td>\n",
       "      <td>2.757</td>\n",
       "      <td>8.30</td>\n",
       "      <td>390.0</td>\n",
       "      <td>2.0</td>\n",
       "      <td>1.0</td>\n",
       "      <td>0.0</td>\n",
       "      <td>3.0</td>\n",
       "      <td>3.0</td>\n",
       "      <td>0.0</td>\n",
       "      <td>0.0</td>\n",
       "      <td>0.0</td>\n",
       "      <td>0.0</td>\n",
       "      <td>9.0</td>\n",
       "      <td>False</td>\n",
       "    </tr>\n",
       "    <tr>\n",
       "      <th>73562</th>\n",
       "      <td>1.227</td>\n",
       "      <td>1.920</td>\n",
       "      <td>1.892</td>\n",
       "      <td>1.68</td>\n",
       "      <td>458.0</td>\n",
       "      <td>3.0</td>\n",
       "      <td>3.0</td>\n",
       "      <td>3.0</td>\n",
       "      <td>3.0</td>\n",
       "      <td>3.0</td>\n",
       "      <td>1.0</td>\n",
       "      <td>2.0</td>\n",
       "      <td>1.0</td>\n",
       "      <td>0.0</td>\n",
       "      <td>19.0</td>\n",
       "      <td>True</td>\n",
       "    </tr>\n",
       "  </tbody>\n",
       "</table>\n",
       "</div>"
      ],
      "text/plain": [
       "       DR1TVB1  DR1TVB2  DR1TVB6  DR1TVB12  DR1TFOLA  DPQ010  DPQ020  DPQ030  \\\n",
       "SEQN                                                                           \n",
       "73557    1.057    1.216    0.951      2.79     285.0     1.0     0.0     0.0   \n",
       "73558    4.178    5.168    4.415     21.45    1243.0     2.0     0.0     0.0   \n",
       "73559    1.648    1.747    1.906      3.78     423.0     0.0     0.0     0.0   \n",
       "73561    1.484    1.720    2.757      8.30     390.0     2.0     1.0     0.0   \n",
       "73562    1.227    1.920    1.892      1.68     458.0     3.0     3.0     3.0   \n",
       "\n",
       "       DPQ040  DPQ050  DPQ060  DPQ070  DPQ080  DPQ090  DepressionScore  \\\n",
       "SEQN                                                                     \n",
       "73557     0.0     0.0     0.0     0.0     0.0     0.0              1.0   \n",
       "73558     0.0     0.0     0.0     0.0     0.0     0.0              2.0   \n",
       "73559     0.0     0.0     0.0     0.0     0.0     0.0              0.0   \n",
       "73561     3.0     3.0     0.0     0.0     0.0     0.0              9.0   \n",
       "73562     3.0     3.0     1.0     2.0     1.0     0.0             19.0   \n",
       "\n",
       "      Depressed  \n",
       "SEQN             \n",
       "73557     False  \n",
       "73558     False  \n",
       "73559     False  \n",
       "73561     False  \n",
       "73562      True  "
      ]
     },
     "execution_count": 218,
     "metadata": {},
     "output_type": "execute_result"
    }
   ],
   "source": [
    "# vitamin df\n",
    "df_vit = dfall[vitamins_diet]\n",
    "df_vit.index = dfall['SEQN']\n",
    "df_vit = df_vit.dropna()\n",
    "\n",
    "# merge with depression df\n",
    "df_vit_depr = pd.concat([df_vit, df_depression], axis=1, join='inner')\n",
    "df_vit_depr.head()"
   ]
  },
  {
   "cell_type": "code",
   "execution_count": 200,
   "metadata": {
    "collapsed": false
   },
   "outputs": [
    {
     "data": {
      "text/plain": [
       "<matplotlib.axes._subplots.AxesSubplot at 0x4c756ba8>"
      ]
     },
     "execution_count": 200,
     "metadata": {},
     "output_type": "execute_result"
    },
    {
     "data": {
      "image/png": "[encoded data removed]",
      "text/plain": [
       "<matplotlib.figure.Figure at 0x4c630ef0>"
      ]
     },
     "metadata": {},
     "output_type": "display_data"
    }
   ],
   "source": [
    "df_vit_depr['DepressionScore'].hist(bins=100, color='mediumaquamarine')"
   ]
  },
  {
   "cell_type": "code",
   "execution_count": 227,
   "metadata": {
    "collapsed": false
   },
   "outputs": [
    {
     "data": {
      "image/png": "[encoded data removed]",
      "text/plain": [
       "<matplotlib.figure.Figure at 0x449d5c18>"
      ]
     },
     "metadata": {},
     "output_type": "display_data"
    }
   ],
   "source": [
    "# Boxplots depressed - vitam\n",
    "\n",
    "f, axes = plt.subplots(1, len(vitamins_diet), sharey=False, figsize=(12,2.5))\n",
    "\n",
    "i=0\n",
    "for vitamin in vitamins_diet:\n",
    "    ax_curr = axes[i]\n",
    "    sns.boxplot(x=\"Depressed\", y=vitamin, data=df_vit_depr, palette=\"Set3\", ax=ax_curr)\n",
    "    ax_curr.set_title(vitamin)\n",
    "    ax_curr.set_ylabel('')\n",
    "    i+=1"
   ]
  },
  {
   "cell_type": "code",
   "execution_count": 216,
   "metadata": {
    "collapsed": false,
    "scrolled": true
   },
   "outputs": [
    {
     "data": {
      "image/png": "[encoded data removed]",
      "text/plain": [
       "<matplotlib.figure.Figure at 0x2a27e198>"
      ]
     },
     "metadata": {},
     "output_type": "display_data"
    }
   ],
   "source": [
    "# correlation DepressionScore - vitamin\n",
    "\n",
    "colors = sns.color_palette(\"Set3\", len(vitamins_diet))\n",
    "\n",
    "f, axes = plt.subplots(1, len(vitamins_diet), sharey=True, figsize=(12,2.5))\n",
    "\n",
    "i=0\n",
    "for vitamin in vitamins_diet:\n",
    "    ax_curr = axes[i]\n",
    "    ax_curr.set_ylim(-1,30)\n",
    "    sns.regplot(x=vitamin, y='DepressionScore', data=df_vit_depr, color=colors[i], ax=ax_curr)\n",
    "    ax_curr.set_xlabel(vitamin)\n",
    "    ax_curr.set_ylabel('DepressionScore')\n",
    "    i+=1\n",
    "    \n",
    "#plt.savefig('corr_test.eps')"
   ]
  },
  {
   "cell_type": "code",
   "execution_count": 219,
   "metadata": {
    "collapsed": false
   },
   "outputs": [
    {
     "data": {
      "text/plain": [
       "{'DR1TFOLA': -0.081364602986803078,\n",
       " 'DR1TVB1': -0.079483353753202923,\n",
       " 'DR1TVB12': -0.038637551598552852,\n",
       " 'DR1TVB2': -0.056649495834406739,\n",
       " 'DR1TVB6': -0.05930282228472044}"
      ]
     },
     "execution_count": 219,
     "metadata": {},
     "output_type": "execute_result"
    }
   ],
   "source": [
    "vitamin_depression_cor_dict = {}\n",
    "for vitamin in vitamins_diet:\n",
    "    vitamin_depression_cor_dict[vitamin] = df_vit_depr['DepressionScore'].corr(df_vit_depr[vitamin])\n",
    "vitamin_depression_cor_dict"
   ]
  },
  {
   "cell_type": "markdown",
   "metadata": {},
   "source": [
    "There is no strong correlation between depression score and vitamin intake"
   ]
  },
  {
   "cell_type": "markdown",
   "metadata": {},
   "source": [
    "#### Automatic feature selection ???"
   ]
  },
  {
   "cell_type": "markdown",
   "metadata": {
    "collapsed": true
   },
   "source": [
    "# TBC"
   ]
  }
 ],
 "metadata": {
  "anaconda-cloud": {},
  "kernelspec": {
   "display_name": "Python [conda root]",
   "language": "python",
   "name": "conda-root-py"
  },
  "language_info": {
   "codemirror_mode": {
    "name": "ipython",
    "version": 2
   },
   "file_extension": ".py",
   "mimetype": "text/x-python",
   "name": "python",
   "nbconvert_exporter": "python",
   "pygments_lexer": "ipython2",
   "version": "2.7.12"
  }
 },
 "nbformat": 4,
 "nbformat_minor": 1
}
